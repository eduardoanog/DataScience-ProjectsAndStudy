{
 "cells": [
  {
   "cell_type": "code",
   "execution_count": 1,
   "metadata": {},
   "outputs": [],
   "source": [
    "# Teste I\n",
    "from sklearn.datasets import make_blobs\n",
    "import pandas as pd\n",
    "import plotly.express as px\n",
    "import numpy as np\n",
    "from sklearn.cluster import KMeans\n",
    "import time\n",
    "\n",
    "# Teste II\n",
    "\n",
    "from sklearn.neighbors import BallTree"
   ]
  },
  {
   "cell_type": "code",
   "execution_count": 2,
   "metadata": {},
   "outputs": [],
   "source": [
    "def EuclideanDistance(a, b):\n",
    "    return np.linalg.norm(a-b)\n",
    "\n",
    "def BruteForceSearch(Principal, TestPoint):\n",
    "    MinEuclideanDistance = np.inf\n",
    "    for i in range(len(Principal)):\n",
    "        Dist = EuclideanDistance(Principal.loc[i, ['x1', 'x2', 'x3']], TestPoint)\n",
    "        if Dist < MinEuclideanDistance:\n",
    "            ClosePoint = i\n",
    "            MinEuclideanDistance = Dist\n",
    "    return Principal['PointName'][ClosePoint]"
   ]
  },
  {
   "cell_type": "markdown",
   "metadata": {},
   "source": [
    "# Inicia os parâmetros para a geração da base de dados"
   ]
  },
  {
   "cell_type": "code",
   "execution_count": 3,
   "metadata": {},
   "outputs": [],
   "source": [
    "#Initial Parameters\n",
    "NumberOfData = 10000\n",
    "NumberOfCenters = 5\n",
    "PlotData = False"
   ]
  },
  {
   "cell_type": "markdown",
   "metadata": {},
   "source": [
    "# Geração da base de dados"
   ]
  },
  {
   "cell_type": "code",
   "execution_count": 4,
   "metadata": {},
   "outputs": [],
   "source": [
    "X, y = make_blobs(n_samples = NumberOfData, centers = NumberOfCenters, n_features=3, cluster_std = 0.08, center_box = [0, 1])\n",
    "DataFrame = pd.DataFrame(X, columns = ['x1', 'x2', 'x3'])\n",
    "DataFrame['y'] = y\n",
    "DataFrame['PointName'] = DataFrame.index\n",
    "DataFrame['PointName'] = DataFrame['PointName'].apply(lambda x: 'p' + str(x))"
   ]
  },
  {
   "cell_type": "code",
   "execution_count": 5,
   "metadata": {},
   "outputs": [
    {
     "data": {
      "text/html": [
       "<div>\n",
       "<style scoped>\n",
       "    .dataframe tbody tr th:only-of-type {\n",
       "        vertical-align: middle;\n",
       "    }\n",
       "\n",
       "    .dataframe tbody tr th {\n",
       "        vertical-align: top;\n",
       "    }\n",
       "\n",
       "    .dataframe thead th {\n",
       "        text-align: right;\n",
       "    }\n",
       "</style>\n",
       "<table border=\"1\" class=\"dataframe\">\n",
       "  <thead>\n",
       "    <tr style=\"text-align: right;\">\n",
       "      <th></th>\n",
       "      <th>count</th>\n",
       "      <th>mean</th>\n",
       "      <th>std</th>\n",
       "      <th>min</th>\n",
       "      <th>25%</th>\n",
       "      <th>50%</th>\n",
       "      <th>75%</th>\n",
       "      <th>max</th>\n",
       "    </tr>\n",
       "  </thead>\n",
       "  <tbody>\n",
       "    <tr>\n",
       "      <th>x1</th>\n",
       "      <td>10000.0</td>\n",
       "      <td>0.774987</td>\n",
       "      <td>0.209238</td>\n",
       "      <td>0.214030</td>\n",
       "      <td>0.574102</td>\n",
       "      <td>0.848735</td>\n",
       "      <td>0.947154</td>\n",
       "      <td>1.251290</td>\n",
       "    </tr>\n",
       "    <tr>\n",
       "      <th>x2</th>\n",
       "      <td>10000.0</td>\n",
       "      <td>0.586815</td>\n",
       "      <td>0.368230</td>\n",
       "      <td>-0.225411</td>\n",
       "      <td>0.286874</td>\n",
       "      <td>0.722756</td>\n",
       "      <td>0.900250</td>\n",
       "      <td>1.251639</td>\n",
       "    </tr>\n",
       "    <tr>\n",
       "      <th>x3</th>\n",
       "      <td>10000.0</td>\n",
       "      <td>0.434985</td>\n",
       "      <td>0.395192</td>\n",
       "      <td>-0.201891</td>\n",
       "      <td>0.105273</td>\n",
       "      <td>0.205281</td>\n",
       "      <td>0.863704</td>\n",
       "      <td>1.270432</td>\n",
       "    </tr>\n",
       "  </tbody>\n",
       "</table>\n",
       "</div>"
      ],
      "text/plain": [
       "      count      mean       std       min       25%       50%       75%  \\\n",
       "x1  10000.0  0.774987  0.209238  0.214030  0.574102  0.848735  0.947154   \n",
       "x2  10000.0  0.586815  0.368230 -0.225411  0.286874  0.722756  0.900250   \n",
       "x3  10000.0  0.434985  0.395192 -0.201891  0.105273  0.205281  0.863704   \n",
       "\n",
       "         max  \n",
       "x1  1.251290  \n",
       "x2  1.251639  \n",
       "x3  1.270432  "
      ]
     },
     "execution_count": 5,
     "metadata": {},
     "output_type": "execute_result"
    }
   ],
   "source": [
    "DataFrame[['x1', 'x2', 'x3']].describe().transpose()"
   ]
  },
  {
   "cell_type": "markdown",
   "metadata": {},
   "source": [
    "# Plot da base de dados gerada"
   ]
  },
  {
   "cell_type": "code",
   "execution_count": 6,
   "metadata": {},
   "outputs": [],
   "source": [
    "if PlotData:\n",
    "    fig = px.scatter_3d(DataFrame, x=\"x1\", y=\"x2\", z=\"x3\", color = 'y')\n",
    "    fig.show()"
   ]
  },
  {
   "cell_type": "markdown",
   "metadata": {},
   "source": [
    "# Remoção da variável de output dos dados gerados"
   ]
  },
  {
   "cell_type": "code",
   "execution_count": 7,
   "metadata": {},
   "outputs": [],
   "source": [
    "DataFrame = DataFrame.drop(['y'], axis = 1)"
   ]
  },
  {
   "cell_type": "markdown",
   "metadata": {},
   "source": [
    "# Declaração dos parâmetros do algoritmo K-Means"
   ]
  },
  {
   "cell_type": "code",
   "execution_count": 8,
   "metadata": {},
   "outputs": [],
   "source": [
    "NClusters = 4"
   ]
  },
  {
   "cell_type": "code",
   "execution_count": 9,
   "metadata": {},
   "outputs": [],
   "source": [
    "kmeans = KMeans(n_clusters=NClusters).fit(DataFrame[['x1', 'x2', 'x3']])\n",
    "DataFrame['KMeans'] = kmeans.labels_"
   ]
  },
  {
   "cell_type": "code",
   "execution_count": 10,
   "metadata": {},
   "outputs": [],
   "source": [
    "if PlotData:\n",
    "    fig = px.scatter_3d(DataFrame, x=\"x1\", y=\"x2\", z=\"x3\", color = 'KMeans')\n",
    "    fig.show()"
   ]
  },
  {
   "cell_type": "code",
   "execution_count": 11,
   "metadata": {},
   "outputs": [
    {
     "data": {
      "text/html": [
       "<div>\n",
       "<style scoped>\n",
       "    .dataframe tbody tr th:only-of-type {\n",
       "        vertical-align: middle;\n",
       "    }\n",
       "\n",
       "    .dataframe tbody tr th {\n",
       "        vertical-align: top;\n",
       "    }\n",
       "\n",
       "    .dataframe thead th {\n",
       "        text-align: right;\n",
       "    }\n",
       "</style>\n",
       "<table border=\"1\" class=\"dataframe\">\n",
       "  <thead>\n",
       "    <tr style=\"text-align: right;\">\n",
       "      <th></th>\n",
       "      <th>x1</th>\n",
       "      <th>x2</th>\n",
       "      <th>x3</th>\n",
       "      <th>PointName</th>\n",
       "      <th>KMeans</th>\n",
       "    </tr>\n",
       "  </thead>\n",
       "  <tbody>\n",
       "    <tr>\n",
       "      <th>0</th>\n",
       "      <td>0.982146</td>\n",
       "      <td>0.043250</td>\n",
       "      <td>0.046795</td>\n",
       "      <td>p0</td>\n",
       "      <td>0</td>\n",
       "    </tr>\n",
       "    <tr>\n",
       "      <th>1</th>\n",
       "      <td>0.509138</td>\n",
       "      <td>0.475933</td>\n",
       "      <td>1.168126</td>\n",
       "      <td>p1</td>\n",
       "      <td>3</td>\n",
       "    </tr>\n",
       "    <tr>\n",
       "      <th>2</th>\n",
       "      <td>0.836959</td>\n",
       "      <td>1.040822</td>\n",
       "      <td>0.903857</td>\n",
       "      <td>p2</td>\n",
       "      <td>1</td>\n",
       "    </tr>\n",
       "    <tr>\n",
       "      <th>3</th>\n",
       "      <td>1.004441</td>\n",
       "      <td>-0.081914</td>\n",
       "      <td>0.061374</td>\n",
       "      <td>p3</td>\n",
       "      <td>0</td>\n",
       "    </tr>\n",
       "    <tr>\n",
       "      <th>4</th>\n",
       "      <td>0.463283</td>\n",
       "      <td>0.511377</td>\n",
       "      <td>1.087871</td>\n",
       "      <td>p4</td>\n",
       "      <td>3</td>\n",
       "    </tr>\n",
       "    <tr>\n",
       "      <th>...</th>\n",
       "      <td>...</td>\n",
       "      <td>...</td>\n",
       "      <td>...</td>\n",
       "      <td>...</td>\n",
       "      <td>...</td>\n",
       "    </tr>\n",
       "    <tr>\n",
       "      <th>9995</th>\n",
       "      <td>0.443747</td>\n",
       "      <td>0.309338</td>\n",
       "      <td>0.994166</td>\n",
       "      <td>p9995</td>\n",
       "      <td>3</td>\n",
       "    </tr>\n",
       "    <tr>\n",
       "      <th>9996</th>\n",
       "      <td>0.911626</td>\n",
       "      <td>1.006318</td>\n",
       "      <td>0.172704</td>\n",
       "      <td>p9996</td>\n",
       "      <td>2</td>\n",
       "    </tr>\n",
       "    <tr>\n",
       "      <th>9997</th>\n",
       "      <td>0.956491</td>\n",
       "      <td>1.138530</td>\n",
       "      <td>0.133579</td>\n",
       "      <td>p9997</td>\n",
       "      <td>2</td>\n",
       "    </tr>\n",
       "    <tr>\n",
       "      <th>9998</th>\n",
       "      <td>0.949265</td>\n",
       "      <td>0.935713</td>\n",
       "      <td>0.336935</td>\n",
       "      <td>p9998</td>\n",
       "      <td>2</td>\n",
       "    </tr>\n",
       "    <tr>\n",
       "      <th>9999</th>\n",
       "      <td>1.050358</td>\n",
       "      <td>1.019841</td>\n",
       "      <td>0.830071</td>\n",
       "      <td>p9999</td>\n",
       "      <td>1</td>\n",
       "    </tr>\n",
       "  </tbody>\n",
       "</table>\n",
       "<p>10000 rows × 5 columns</p>\n",
       "</div>"
      ],
      "text/plain": [
       "            x1        x2        x3 PointName  KMeans\n",
       "0     0.982146  0.043250  0.046795        p0       0\n",
       "1     0.509138  0.475933  1.168126        p1       3\n",
       "2     0.836959  1.040822  0.903857        p2       1\n",
       "3     1.004441 -0.081914  0.061374        p3       0\n",
       "4     0.463283  0.511377  1.087871        p4       3\n",
       "...        ...       ...       ...       ...     ...\n",
       "9995  0.443747  0.309338  0.994166     p9995       3\n",
       "9996  0.911626  1.006318  0.172704     p9996       2\n",
       "9997  0.956491  1.138530  0.133579     p9997       2\n",
       "9998  0.949265  0.935713  0.336935     p9998       2\n",
       "9999  1.050358  1.019841  0.830071     p9999       1\n",
       "\n",
       "[10000 rows x 5 columns]"
      ]
     },
     "execution_count": 11,
     "metadata": {},
     "output_type": "execute_result"
    }
   ],
   "source": [
    "DataFrame"
   ]
  },
  {
   "cell_type": "markdown",
   "metadata": {},
   "source": [
    "# Teste da metodologia de Cluster\n",
    "\n",
    "- Etapas Globais:\n",
    "    - Determina-se a quantidade de testes a ser realizado;\n",
    "    - Determina-se os parâmetros de teste;\n",
    "    - Gera-se uma lista de pontos de teste aleatórios.\n",
    "    \n",
    "- Busca exaustiva:\n",
    "    - Para cada ponto aleatório na lista de pontos aleatórios faz-se a busca do ponto mais próximo.\n",
    "\n",
    "- Busca no cluster:\n",
    "    - Para cada ponto aleatório na lista de pontos aleatórios encontra a qual cluster ele pertence pelo algoritmo K-Means;\n",
    "    - Faz-se a busca do ponto mais próximo olhando os pontos da base principal que fazem parte do cluster que o ponto aleatório foi determinado.\n"
   ]
  },
  {
   "cell_type": "code",
   "execution_count": 12,
   "metadata": {},
   "outputs": [],
   "source": [
    "NpointsOfTest = 10 # Quantidade de pontos de teste"
   ]
  },
  {
   "cell_type": "code",
   "execution_count": 13,
   "metadata": {},
   "outputs": [],
   "source": [
    "PointsOfTest = []\n",
    "for i in range(NpointsOfTest):\n",
    "    PointsOfTest.append(list(np.random.rand(1,3)[0]))\n",
    "PointsOfTest = pd.DataFrame(PointsOfTest, columns = ['x1', 'x2', 'x3'])"
   ]
  },
  {
   "cell_type": "code",
   "execution_count": 14,
   "metadata": {
    "scrolled": true
   },
   "outputs": [],
   "source": [
    "MatchedPoint = []\n",
    "TimeVector = []\n",
    "for PointNumber in range(NpointsOfTest):\n",
    "    StartTime = time.time()\n",
    "    MatchedPoint.append(BruteForceSearch(DataFrame, PointsOfTest.loc[PointNumber,['x1', 'x2', 'x3']]))\n",
    "    TimeVector.append(time.time() - StartTime)\n",
    "    \n",
    "TimeDataFrame = pd.DataFrame(TimeVector, columns = ['TempoBruteForce'])\n",
    "PointFound = pd.DataFrame(MatchedPoint, columns = ['BruteForcePoint'])"
   ]
  },
  {
   "cell_type": "code",
   "execution_count": 15,
   "metadata": {},
   "outputs": [],
   "source": [
    "MatchedPoint = []\n",
    "TimeVector = []\n",
    "for PointNumber in range(NpointsOfTest):\n",
    "    StartTime = time.time()\n",
    "    TestPoint = np.array(PointsOfTest.loc[PointNumber,['x1', 'x2', 'x3']]).reshape(1, -1)\n",
    "    ClusterFound = kmeans.predict(TestPoint)[0]\n",
    "    MatchedPoint.append(BruteForceSearch(DataFrame[DataFrame['KMeans'] == ClusterFound].reset_index(drop = True), TestPoint.reshape(-1)))\n",
    "    TimeVector.append(time.time() - StartTime)\n",
    "    \n",
    "TimeDataFrame['TempoCluster'] = TimeVector\n",
    "PointFound['ClusterPoint'] = MatchedPoint"
   ]
  },
  {
   "cell_type": "markdown",
   "metadata": {},
   "source": [
    "# Teste da metodologia de BallTree"
   ]
  },
  {
   "cell_type": "code",
   "execution_count": 16,
   "metadata": {},
   "outputs": [],
   "source": [
    "PointDict = pd.DataFrame.to_dict(DataFrame[['PointName']], orient = 'index')"
   ]
  },
  {
   "cell_type": "code",
   "execution_count": 17,
   "metadata": {},
   "outputs": [],
   "source": [
    "tree = BallTree(DataFrame[['x1', 'x2', 'x3']], leaf_size=2)"
   ]
  },
  {
   "cell_type": "code",
   "execution_count": 18,
   "metadata": {},
   "outputs": [],
   "source": [
    "MatchedPoint = []\n",
    "TimeVector = []\n",
    "for PointNumber in range(NpointsOfTest):\n",
    "    StartTime = time.time()\n",
    "    TestPoint = np.array(PointsOfTest.loc[PointNumber,['x1', 'x2', 'x3']]).reshape(1, -1)\n",
    "    dist, ind = tree.query(TestPoint, k=1)\n",
    "    MatchedPoint.append(PointDict[ind[0][0]]['PointName'])\n",
    "    TimeVector.append(time.time() - StartTime)\n",
    "    \n",
    "TimeDataFrame['TempoBallTree'] = TimeVector\n",
    "PointFound['BallTreePoint'] = MatchedPoint"
   ]
  },
  {
   "cell_type": "markdown",
   "metadata": {},
   "source": [
    "# Avaliação dos resultados"
   ]
  },
  {
   "cell_type": "code",
   "execution_count": 19,
   "metadata": {},
   "outputs": [
    {
     "data": {
      "text/html": [
       "<div>\n",
       "<style scoped>\n",
       "    .dataframe tbody tr th:only-of-type {\n",
       "        vertical-align: middle;\n",
       "    }\n",
       "\n",
       "    .dataframe tbody tr th {\n",
       "        vertical-align: top;\n",
       "    }\n",
       "\n",
       "    .dataframe thead th {\n",
       "        text-align: right;\n",
       "    }\n",
       "</style>\n",
       "<table border=\"1\" class=\"dataframe\">\n",
       "  <thead>\n",
       "    <tr style=\"text-align: right;\">\n",
       "      <th></th>\n",
       "      <th>count</th>\n",
       "      <th>mean</th>\n",
       "      <th>std</th>\n",
       "      <th>min</th>\n",
       "      <th>25%</th>\n",
       "      <th>50%</th>\n",
       "      <th>75%</th>\n",
       "      <th>max</th>\n",
       "    </tr>\n",
       "  </thead>\n",
       "  <tbody>\n",
       "    <tr>\n",
       "      <th>TempoBruteForce</th>\n",
       "      <td>10.0</td>\n",
       "      <td>7.638531</td>\n",
       "      <td>0.351041</td>\n",
       "      <td>7.333952</td>\n",
       "      <td>7.357250</td>\n",
       "      <td>7.476860</td>\n",
       "      <td>7.943671</td>\n",
       "      <td>8.225397</td>\n",
       "    </tr>\n",
       "    <tr>\n",
       "      <th>TempoCluster</th>\n",
       "      <td>10.0</td>\n",
       "      <td>1.901741</td>\n",
       "      <td>0.816521</td>\n",
       "      <td>1.352835</td>\n",
       "      <td>1.401884</td>\n",
       "      <td>1.411819</td>\n",
       "      <td>2.490628</td>\n",
       "      <td>3.367159</td>\n",
       "    </tr>\n",
       "    <tr>\n",
       "      <th>TempoBallTree</th>\n",
       "      <td>10.0</td>\n",
       "      <td>0.000900</td>\n",
       "      <td>0.000568</td>\n",
       "      <td>0.000000</td>\n",
       "      <td>0.000995</td>\n",
       "      <td>0.001000</td>\n",
       "      <td>0.001000</td>\n",
       "      <td>0.002003</td>\n",
       "    </tr>\n",
       "  </tbody>\n",
       "</table>\n",
       "</div>"
      ],
      "text/plain": [
       "                 count      mean       std       min       25%       50%  \\\n",
       "TempoBruteForce   10.0  7.638531  0.351041  7.333952  7.357250  7.476860   \n",
       "TempoCluster      10.0  1.901741  0.816521  1.352835  1.401884  1.411819   \n",
       "TempoBallTree     10.0  0.000900  0.000568  0.000000  0.000995  0.001000   \n",
       "\n",
       "                      75%       max  \n",
       "TempoBruteForce  7.943671  8.225397  \n",
       "TempoCluster     2.490628  3.367159  \n",
       "TempoBallTree    0.001000  0.002003  "
      ]
     },
     "execution_count": 19,
     "metadata": {},
     "output_type": "execute_result"
    }
   ],
   "source": [
    "TimeDataFrame.describe().transpose()"
   ]
  },
  {
   "cell_type": "code",
   "execution_count": 20,
   "metadata": {},
   "outputs": [
    {
     "data": {
      "text/html": [
       "<div>\n",
       "<style scoped>\n",
       "    .dataframe tbody tr th:only-of-type {\n",
       "        vertical-align: middle;\n",
       "    }\n",
       "\n",
       "    .dataframe tbody tr th {\n",
       "        vertical-align: top;\n",
       "    }\n",
       "\n",
       "    .dataframe thead th {\n",
       "        text-align: right;\n",
       "    }\n",
       "</style>\n",
       "<table border=\"1\" class=\"dataframe\">\n",
       "  <thead>\n",
       "    <tr style=\"text-align: right;\">\n",
       "      <th></th>\n",
       "      <th>BruteForcePoint</th>\n",
       "      <th>ClusterPoint</th>\n",
       "      <th>BallTreePoint</th>\n",
       "    </tr>\n",
       "  </thead>\n",
       "  <tbody>\n",
       "    <tr>\n",
       "      <th>0</th>\n",
       "      <td>p9659</td>\n",
       "      <td>p9659</td>\n",
       "      <td>p9659</td>\n",
       "    </tr>\n",
       "    <tr>\n",
       "      <th>1</th>\n",
       "      <td>p3377</td>\n",
       "      <td>p3377</td>\n",
       "      <td>p3377</td>\n",
       "    </tr>\n",
       "    <tr>\n",
       "      <th>2</th>\n",
       "      <td>p5897</td>\n",
       "      <td>p5897</td>\n",
       "      <td>p5897</td>\n",
       "    </tr>\n",
       "    <tr>\n",
       "      <th>3</th>\n",
       "      <td>p3377</td>\n",
       "      <td>p3377</td>\n",
       "      <td>p3377</td>\n",
       "    </tr>\n",
       "    <tr>\n",
       "      <th>4</th>\n",
       "      <td>p5171</td>\n",
       "      <td>p5171</td>\n",
       "      <td>p5171</td>\n",
       "    </tr>\n",
       "    <tr>\n",
       "      <th>5</th>\n",
       "      <td>p6194</td>\n",
       "      <td>p6194</td>\n",
       "      <td>p6194</td>\n",
       "    </tr>\n",
       "    <tr>\n",
       "      <th>6</th>\n",
       "      <td>p8521</td>\n",
       "      <td>p8521</td>\n",
       "      <td>p8521</td>\n",
       "    </tr>\n",
       "    <tr>\n",
       "      <th>7</th>\n",
       "      <td>p1149</td>\n",
       "      <td>p1149</td>\n",
       "      <td>p1149</td>\n",
       "    </tr>\n",
       "    <tr>\n",
       "      <th>8</th>\n",
       "      <td>p8025</td>\n",
       "      <td>p8025</td>\n",
       "      <td>p8025</td>\n",
       "    </tr>\n",
       "    <tr>\n",
       "      <th>9</th>\n",
       "      <td>p7720</td>\n",
       "      <td>p7720</td>\n",
       "      <td>p7720</td>\n",
       "    </tr>\n",
       "  </tbody>\n",
       "</table>\n",
       "</div>"
      ],
      "text/plain": [
       "  BruteForcePoint ClusterPoint BallTreePoint\n",
       "0           p9659        p9659         p9659\n",
       "1           p3377        p3377         p3377\n",
       "2           p5897        p5897         p5897\n",
       "3           p3377        p3377         p3377\n",
       "4           p5171        p5171         p5171\n",
       "5           p6194        p6194         p6194\n",
       "6           p8521        p8521         p8521\n",
       "7           p1149        p1149         p1149\n",
       "8           p8025        p8025         p8025\n",
       "9           p7720        p7720         p7720"
      ]
     },
     "execution_count": 20,
     "metadata": {},
     "output_type": "execute_result"
    }
   ],
   "source": [
    "PointFound"
   ]
  }
 ],
 "metadata": {
  "kernelspec": {
   "display_name": "Python 3",
   "language": "python",
   "name": "python3"
  },
  "language_info": {
   "codemirror_mode": {
    "name": "ipython",
    "version": 3
   },
   "file_extension": ".py",
   "mimetype": "text/x-python",
   "name": "python",
   "nbconvert_exporter": "python",
   "pygments_lexer": "ipython3",
   "version": "3.8.5"
  }
 },
 "nbformat": 4,
 "nbformat_minor": 4
}
